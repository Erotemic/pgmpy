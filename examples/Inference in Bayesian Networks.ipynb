{
 "cells": [
  {
   "cell_type": "markdown",
   "metadata": {},
   "source": [
    "We will be using the Asia network (http://www.bnlearn.com/bnrepository/#asia) and do some inference queries."
   ]
  },
  {
   "cell_type": "code",
   "execution_count": 1,
   "metadata": {},
   "outputs": [],
   "source": [
    "# Fetching the network\n",
    "import wget\n",
    "import gzip\n",
    "f = wget.download('http://www.bnlearn.com/bnrepository/asia/asia.bif.gz')\n",
    "with gzip.open('asia.bif.gz', mode='rb') as f:\n",
    "    file_content=f.read()\n",
    "with open('asia.bif', mode='wb') as f:\n",
    "    f.write(file_content)"
   ]
  },
  {
   "cell_type": "code",
   "execution_count": 2,
   "metadata": {},
   "outputs": [],
   "source": [
    "from pgmpy.readwrite import BIFReader\n",
    "reader = BIFReader('asia.bif')\n",
    "!rm asia.bif\n",
    "asia_model = reader.get_model()"
   ]
  },
  {
   "cell_type": "code",
   "execution_count": 3,
   "metadata": {},
   "outputs": [
    {
     "data": {
      "text/plain": [
       "NodeView(('asia', 'tub', 'smoke', 'lung', 'bronc', 'either', 'xray', 'dysp'))"
      ]
     },
     "execution_count": 3,
     "metadata": {},
     "output_type": "execute_result"
    }
   ],
   "source": [
    "asia_model.nodes()"
   ]
  },
  {
   "cell_type": "code",
   "execution_count": 4,
   "metadata": {},
   "outputs": [
    {
     "data": {
      "text/plain": [
       "OutEdgeView([('asia', 'tub'), ('tub', 'either'), ('smoke', 'lung'), ('smoke', 'bronc'), ('lung', 'either'), ('bronc', 'dysp'), ('either', 'xray'), ('either', 'dysp')])"
      ]
     },
     "execution_count": 4,
     "metadata": {},
     "output_type": "execute_result"
    }
   ],
   "source": [
    "asia_model.edges()"
   ]
  },
  {
   "cell_type": "code",
   "execution_count": 5,
   "metadata": {},
   "outputs": [
    {
     "data": {
      "text/plain": [
       "[<TabularCPD representing P(asia:2) at 0x7f0887ffa978>,\n",
       " <TabularCPD representing P(bronc:2 | smoke:2) at 0x7f0887ffa8d0>,\n",
       " <TabularCPD representing P(dysp:2 | bronc:2, either:2) at 0x7f0887fa0550>,\n",
       " <TabularCPD representing P(either:2 | lung:2, tub:2) at 0x7f0887fa0ac8>,\n",
       " <TabularCPD representing P(lung:2 | smoke:2) at 0x7f0887fa0d68>,\n",
       " <TabularCPD representing P(smoke:2) at 0x7f0887fa0e48>,\n",
       " <TabularCPD representing P(tub:2 | asia:2) at 0x7f0887fa0b70>,\n",
       " <TabularCPD representing P(xray:2 | either:2) at 0x7f0887fa0f28>]"
      ]
     },
     "execution_count": 5,
     "metadata": {},
     "output_type": "execute_result"
    }
   ],
   "source": [
    "asia_model.get_cpds()"
   ]
  },
  {
   "cell_type": "code",
   "execution_count": 6,
   "metadata": {},
   "outputs": [
    {
     "name": "stderr",
     "output_type": "stream",
     "text": [
      "Finding Elimination Order: : 100%|██████████| 6/6 [00:00<00:00, 4080.06it/s]\n",
      "Eliminating: xray: 100%|██████████| 6/6 [00:00<00:00, 546.62it/s]"
     ]
    },
    {
     "name": "stdout",
     "output_type": "stream",
     "text": [
      "+------------+--------------+\n",
      "| bronc      |   phi(bronc) |\n",
      "+============+==============+\n",
      "| bronc(yes) |       0.3000 |\n",
      "+------------+--------------+\n",
      "| bronc(no)  |       0.7000 |\n",
      "+------------+--------------+\n"
     ]
    },
    {
     "name": "stderr",
     "output_type": "stream",
     "text": [
      "\n"
     ]
    }
   ],
   "source": [
    "# Doing exact inference using Variable Elimination\n",
    "from pgmpy.inference import VariableElimination\n",
    "asia_infer = VariableElimination(asia_model)\n",
    "\n",
    "# Computing the probability of bronc given smoke.\n",
    "q = asia_infer.query(variables=['bronc'], evidence={'smoke': 'no'})\n",
    "print(q)"
   ]
  },
  {
   "cell_type": "code",
   "execution_count": 7,
   "metadata": {},
   "outputs": [
    {
     "name": "stderr",
     "output_type": "stream",
     "text": [
      "Finding Elimination Order: : 100%|██████████| 6/6 [00:00<00:00, 3569.62it/s]\n",
      "Eliminating: xray: 100%|██████████| 6/6 [00:00<00:00, 683.22it/s]"
     ]
    },
    {
     "name": "stdout",
     "output_type": "stream",
     "text": [
      "+------------+--------------+\n",
      "| bronc      |   phi(bronc) |\n",
      "+============+==============+\n",
      "| bronc(yes) |       0.6000 |\n",
      "+------------+--------------+\n",
      "| bronc(no)  |       0.4000 |\n",
      "+------------+--------------+\n"
     ]
    },
    {
     "name": "stderr",
     "output_type": "stream",
     "text": [
      "\n"
     ]
    }
   ],
   "source": [
    "q = asia_infer.query(variables=['bronc'], evidence={'smoke': 'yes'})\n",
    "print(q)"
   ]
  },
  {
   "cell_type": "code",
   "execution_count": null,
   "metadata": {},
   "outputs": [],
   "source": []
  }
 ],
 "metadata": {
  "anaconda-cloud": {},
  "kernelspec": {
   "display_name": "Python 3",
   "language": "python",
   "name": "python3"
  },
  "language_info": {
   "codemirror_mode": {
    "name": "ipython",
    "version": 3
   },
   "file_extension": ".py",
   "mimetype": "text/x-python",
   "name": "python",
   "nbconvert_exporter": "python",
   "pygments_lexer": "ipython3",
   "version": "3.7.3"
  }
 },
 "nbformat": 4,
 "nbformat_minor": 1
}
